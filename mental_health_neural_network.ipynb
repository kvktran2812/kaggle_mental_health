{
 "cells": [
  {
   "cell_type": "code",
   "execution_count": 23,
   "id": "79031116-8ddc-47dd-bc38-d2e66378976d",
   "metadata": {},
   "outputs": [],
   "source": [
    "import pandas as pd\n",
    "import numpy as np\n",
    "import torch\n",
    "import torch.nn as nn\n",
    "import torch.optim as optim\n",
    "from torch.utils.data import DataLoader, TensorDataset\n",
    "from sklearn.preprocessing import LabelEncoder\n",
    "from sklearn.model_selection import train_test_split\n",
    "from sklearn.metrics import accuracy_score"
   ]
  },
  {
   "cell_type": "code",
   "execution_count": 2,
   "id": "e56ff842-ff18-4b64-b783-f5553994c785",
   "metadata": {},
   "outputs": [
    {
     "name": "stdout",
     "output_type": "stream",
     "text": [
      "Using device: cuda\n"
     ]
    }
   ],
   "source": [
    "device = torch.device(\"cuda\" if torch.cuda.is_available() else \"cpu\")\n",
    "print(f\"Using device: {device}\")"
   ]
  },
  {
   "cell_type": "code",
   "execution_count": 5,
   "id": "683d1a06-a7f9-4a7c-9cf8-8d2b7dd1e4f1",
   "metadata": {},
   "outputs": [
    {
     "data": {
      "text/html": [
       "<div>\n",
       "<style scoped>\n",
       "    .dataframe tbody tr th:only-of-type {\n",
       "        vertical-align: middle;\n",
       "    }\n",
       "\n",
       "    .dataframe tbody tr th {\n",
       "        vertical-align: top;\n",
       "    }\n",
       "\n",
       "    .dataframe thead th {\n",
       "        text-align: right;\n",
       "    }\n",
       "</style>\n",
       "<table border=\"1\" class=\"dataframe\">\n",
       "  <thead>\n",
       "    <tr style=\"text-align: right;\">\n",
       "      <th></th>\n",
       "      <th>Name</th>\n",
       "      <th>Gender</th>\n",
       "      <th>Age</th>\n",
       "      <th>City</th>\n",
       "      <th>Working Professional or Student</th>\n",
       "      <th>Profession</th>\n",
       "      <th>Academic Pressure</th>\n",
       "      <th>Work Pressure</th>\n",
       "      <th>CGPA</th>\n",
       "      <th>Study Satisfaction</th>\n",
       "      <th>Job Satisfaction</th>\n",
       "      <th>Sleep Duration</th>\n",
       "      <th>Dietary Habits</th>\n",
       "      <th>Degree</th>\n",
       "      <th>Have you ever had suicidal thoughts ?</th>\n",
       "      <th>Work/Study Hours</th>\n",
       "      <th>Financial Stress</th>\n",
       "      <th>Family History of Mental Illness</th>\n",
       "      <th>Depression</th>\n",
       "    </tr>\n",
       "  </thead>\n",
       "  <tbody>\n",
       "    <tr>\n",
       "      <th>0</th>\n",
       "      <td>11.0</td>\n",
       "      <td>0.0</td>\n",
       "      <td>31.0</td>\n",
       "      <td>50.0</td>\n",
       "      <td>1.0</td>\n",
       "      <td>11.0</td>\n",
       "      <td>0.0</td>\n",
       "      <td>5.0</td>\n",
       "      <td>0.00</td>\n",
       "      <td>0.0</td>\n",
       "      <td>2.0</td>\n",
       "      <td>29.0</td>\n",
       "      <td>8.0</td>\n",
       "      <td>34.0</td>\n",
       "      <td>0.0</td>\n",
       "      <td>1.0</td>\n",
       "      <td>2.0</td>\n",
       "      <td>0.0</td>\n",
       "      <td>0.0</td>\n",
       "    </tr>\n",
       "    <tr>\n",
       "      <th>1</th>\n",
       "      <td>407.0</td>\n",
       "      <td>1.0</td>\n",
       "      <td>8.0</td>\n",
       "      <td>93.0</td>\n",
       "      <td>1.0</td>\n",
       "      <td>56.0</td>\n",
       "      <td>0.0</td>\n",
       "      <td>4.0</td>\n",
       "      <td>0.00</td>\n",
       "      <td>0.0</td>\n",
       "      <td>3.0</td>\n",
       "      <td>27.0</td>\n",
       "      <td>21.0</td>\n",
       "      <td>64.0</td>\n",
       "      <td>1.0</td>\n",
       "      <td>7.0</td>\n",
       "      <td>3.0</td>\n",
       "      <td>0.0</td>\n",
       "      <td>1.0</td>\n",
       "    </tr>\n",
       "    <tr>\n",
       "      <th>2</th>\n",
       "      <td>417.0</td>\n",
       "      <td>1.0</td>\n",
       "      <td>15.0</td>\n",
       "      <td>97.0</td>\n",
       "      <td>0.0</td>\n",
       "      <td>0.0</td>\n",
       "      <td>5.0</td>\n",
       "      <td>0.0</td>\n",
       "      <td>8.97</td>\n",
       "      <td>2.0</td>\n",
       "      <td>0.0</td>\n",
       "      <td>15.0</td>\n",
       "      <td>8.0</td>\n",
       "      <td>22.0</td>\n",
       "      <td>1.0</td>\n",
       "      <td>3.0</td>\n",
       "      <td>1.0</td>\n",
       "      <td>0.0</td>\n",
       "      <td>1.0</td>\n",
       "    </tr>\n",
       "    <tr>\n",
       "      <th>3</th>\n",
       "      <td>417.0</td>\n",
       "      <td>1.0</td>\n",
       "      <td>4.0</td>\n",
       "      <td>64.0</td>\n",
       "      <td>1.0</td>\n",
       "      <td>56.0</td>\n",
       "      <td>0.0</td>\n",
       "      <td>5.0</td>\n",
       "      <td>0.00</td>\n",
       "      <td>0.0</td>\n",
       "      <td>1.0</td>\n",
       "      <td>27.0</td>\n",
       "      <td>16.0</td>\n",
       "      <td>29.0</td>\n",
       "      <td>1.0</td>\n",
       "      <td>10.0</td>\n",
       "      <td>1.0</td>\n",
       "      <td>1.0</td>\n",
       "      <td>1.0</td>\n",
       "    </tr>\n",
       "    <tr>\n",
       "      <th>4</th>\n",
       "      <td>286.0</td>\n",
       "      <td>0.0</td>\n",
       "      <td>12.0</td>\n",
       "      <td>37.0</td>\n",
       "      <td>1.0</td>\n",
       "      <td>10.0</td>\n",
       "      <td>0.0</td>\n",
       "      <td>1.0</td>\n",
       "      <td>0.00</td>\n",
       "      <td>0.0</td>\n",
       "      <td>1.0</td>\n",
       "      <td>15.0</td>\n",
       "      <td>21.0</td>\n",
       "      <td>29.0</td>\n",
       "      <td>1.0</td>\n",
       "      <td>9.0</td>\n",
       "      <td>4.0</td>\n",
       "      <td>1.0</td>\n",
       "      <td>0.0</td>\n",
       "    </tr>\n",
       "  </tbody>\n",
       "</table>\n",
       "</div>"
      ],
      "text/plain": [
       "    Name  Gender   Age  City  Working Professional or Student  Profession  \\\n",
       "0   11.0     0.0  31.0  50.0                              1.0        11.0   \n",
       "1  407.0     1.0   8.0  93.0                              1.0        56.0   \n",
       "2  417.0     1.0  15.0  97.0                              0.0         0.0   \n",
       "3  417.0     1.0   4.0  64.0                              1.0        56.0   \n",
       "4  286.0     0.0  12.0  37.0                              1.0        10.0   \n",
       "\n",
       "   Academic Pressure  Work Pressure  CGPA  Study Satisfaction  \\\n",
       "0                0.0            5.0  0.00                 0.0   \n",
       "1                0.0            4.0  0.00                 0.0   \n",
       "2                5.0            0.0  8.97                 2.0   \n",
       "3                0.0            5.0  0.00                 0.0   \n",
       "4                0.0            1.0  0.00                 0.0   \n",
       "\n",
       "   Job Satisfaction  Sleep Duration  Dietary Habits  Degree  \\\n",
       "0               2.0            29.0             8.0    34.0   \n",
       "1               3.0            27.0            21.0    64.0   \n",
       "2               0.0            15.0             8.0    22.0   \n",
       "3               1.0            27.0            16.0    29.0   \n",
       "4               1.0            15.0            21.0    29.0   \n",
       "\n",
       "   Have you ever had suicidal thoughts ?  Work/Study Hours  Financial Stress  \\\n",
       "0                                    0.0               1.0               2.0   \n",
       "1                                    1.0               7.0               3.0   \n",
       "2                                    1.0               3.0               1.0   \n",
       "3                                    1.0              10.0               1.0   \n",
       "4                                    1.0               9.0               4.0   \n",
       "\n",
       "   Family History of Mental Illness  Depression  \n",
       "0                               0.0         0.0  \n",
       "1                               0.0         1.0  \n",
       "2                               0.0         1.0  \n",
       "3                               1.0         1.0  \n",
       "4                               1.0         0.0  "
      ]
     },
     "execution_count": 5,
     "metadata": {},
     "output_type": "execute_result"
    }
   ],
   "source": [
    "df = pd.read_csv('train.csv')\n",
    "\n",
    "label_encoder = LabelEncoder()\n",
    "\n",
    "# Drop column\n",
    "df = df.drop([\"id\"], axis=1)\n",
    "\n",
    "# fill Na\n",
    "df.fillna(0.0, inplace=True)\n",
    "\n",
    "# encoded column:\n",
    "encoded_columns = [\"Name\", \"City\", \"Gender\", \"Age\", \"Working Professional or Student\", \"Profession\", \"Sleep Duration\", \"Dietary Habits\", \"Degree\", \"Have you ever had suicidal thoughts ?\", \"Family History of Mental Illness\"]\n",
    "\n",
    "df[\"Profession\"] = df[\"Profession\"].astype(str)\n",
    "\n",
    "for column in encoded_columns:\n",
    "    df[column] = df[column].astype(str)\n",
    "    df[column] = label_encoder.fit_transform(df[column])\n",
    "\n",
    "df = df.astype(float)\n",
    "df.head(5)"
   ]
  },
  {
   "cell_type": "code",
   "execution_count": 6,
   "id": "d21c5b2e-9ebf-415e-b2ae-58cf28412f22",
   "metadata": {},
   "outputs": [],
   "source": [
    "X = df.drop(columns=['Depression']).to_numpy()\n",
    "y = df[\"Depression\"].to_numpy().astype(int)\n",
    "\n",
    "X_train, X_test, y_train, y_test = train_test_split(X, y, test_size=0.2)\n",
    "X_train = torch.tensor(X_train, dtype=torch.float32)\n",
    "y_train = torch.tensor(y_train, dtype=torch.float32).unsqueeze(1)\n",
    "\n",
    "train_dataset = TensorDataset(X_train, y_train)\n",
    "train_loader = DataLoader(train_dataset, batch_size=32, shuffle=True)"
   ]
  },
  {
   "cell_type": "code",
   "execution_count": 7,
   "id": "0054ee5c-6c5f-48d7-af45-fb37bc5c7dfe",
   "metadata": {},
   "outputs": [
    {
     "data": {
      "text/plain": [
       "SimpleNN(\n",
       "  (fc1): Linear(in_features=18, out_features=64, bias=True)\n",
       "  (fc2): Linear(in_features=64, out_features=64, bias=True)\n",
       "  (relu): ReLU()\n",
       "  (fc3): Linear(in_features=64, out_features=1, bias=True)\n",
       ")"
      ]
     },
     "execution_count": 7,
     "metadata": {},
     "output_type": "execute_result"
    }
   ],
   "source": [
    "class SimpleNN(nn.Module):\n",
    "    def __init__(self, input_size, hidden_size, output_size):\n",
    "        super(SimpleNN, self).__init__()\n",
    "        self.fc1 = nn.Linear(input_size, hidden_size)  # Input to hidden layer\n",
    "        self.fc2 = nn.Linear(hidden_size, hidden_size)\n",
    "        self.relu = nn.ReLU()                        # Activation function\n",
    "        self.fc3 = nn.Linear(hidden_size, 1)  # Hidden to output layer\n",
    "    \n",
    "    def forward(self, x):\n",
    "        x = self.fc1(x)\n",
    "        x = self.relu(x)\n",
    "        x = self.fc2(x)\n",
    "        x = self.relu(x)\n",
    "        x = self.fc3(x)\n",
    "        return x\n",
    "\n",
    "# Create the model\n",
    "input_size = X_train.shape[1]\n",
    "hidden_size = 64\n",
    "output_size = 1\n",
    "\n",
    "model = SimpleNN(input_size, hidden_size, output_size)\n",
    "model.to(\"cuda\")"
   ]
  },
  {
   "cell_type": "code",
   "execution_count": 8,
   "id": "4038bfa3-2801-49b3-a10e-115793388924",
   "metadata": {},
   "outputs": [],
   "source": [
    "criterion = nn.BCEWithLogitsLoss()\n",
    "optimizer = optim.Adam(model.parameters(), lr=0.0005)"
   ]
  },
  {
   "cell_type": "code",
   "execution_count": 10,
   "id": "7467065c-4db7-4df8-9ac1-f46fcb5bba86",
   "metadata": {},
   "outputs": [
    {
     "name": "stdout",
     "output_type": "stream",
     "text": [
      "Epoch 1/20, Loss: 564.0157, Accuracy: 93.52%\n",
      "Epoch 2/20, Loss: 562.8195, Accuracy: 93.54%\n",
      "Epoch 3/20, Loss: 562.5580, Accuracy: 93.56%\n",
      "Epoch 4/20, Loss: 561.0599, Accuracy: 93.58%\n",
      "Epoch 5/20, Loss: 560.0089, Accuracy: 93.61%\n",
      "Epoch 6/20, Loss: 558.8451, Accuracy: 93.59%\n",
      "Epoch 7/20, Loss: 558.1617, Accuracy: 93.61%\n",
      "Epoch 8/20, Loss: 556.3651, Accuracy: 93.64%\n",
      "Epoch 9/20, Loss: 556.6589, Accuracy: 93.60%\n",
      "Epoch 10/20, Loss: 555.3580, Accuracy: 93.65%\n",
      "Epoch 11/20, Loss: 553.8361, Accuracy: 93.64%\n",
      "Epoch 12/20, Loss: 553.1091, Accuracy: 93.69%\n",
      "Epoch 13/20, Loss: 553.6671, Accuracy: 93.68%\n",
      "Epoch 14/20, Loss: 552.7470, Accuracy: 93.65%\n",
      "Epoch 15/20, Loss: 551.3558, Accuracy: 93.67%\n",
      "Epoch 16/20, Loss: 550.7140, Accuracy: 93.72%\n",
      "Epoch 17/20, Loss: 549.3748, Accuracy: 93.68%\n",
      "Epoch 18/20, Loss: 550.5790, Accuracy: 93.66%\n",
      "Epoch 19/20, Loss: 550.1441, Accuracy: 93.70%\n",
      "Epoch 20/20, Loss: 550.9553, Accuracy: 93.72%\n"
     ]
    }
   ],
   "source": [
    "num_epochs = 20\n",
    "\n",
    "for epoch in range(num_epochs):\n",
    "    model.train()\n",
    "    epoch_loss = 0\n",
    "    correct = 0\n",
    "    total = 0\n",
    "\n",
    "    for X_batch, y_batch in train_loader:\n",
    "        # Move data to the appropriate device\n",
    "        X_batch, y_batch = X_batch.to(device), y_batch.to(device)\n",
    "\n",
    "        # Forward pass\n",
    "        outputs = model(X_batch)  # Shape: (batch_size, 1)\n",
    "        loss = criterion(outputs, y_batch)  # Ensure shapes match\n",
    "\n",
    "        # Backward pass\n",
    "        optimizer.zero_grad()\n",
    "        loss.backward()\n",
    "        optimizer.step()\n",
    "\n",
    "        # Accumulate loss\n",
    "        epoch_loss += loss.item()\n",
    "\n",
    "        # Calculate accuracy\n",
    "        predictions = (torch.sigmoid(outputs) > 0.5).float()  # Threshold at 0.5\n",
    "        correct += (predictions == y_batch).sum().item()\n",
    "        total += y_batch.size(0)\n",
    "\n",
    "    accuracy = 100 * correct / total\n",
    "    print(f\"Epoch {epoch+1}/{num_epochs}, Loss: {epoch_loss:.4f}, Accuracy: {accuracy:.2f}%\")"
   ]
  },
  {
   "cell_type": "code",
   "execution_count": 15,
   "id": "55669d11-34a5-4ea1-94f3-e65b6ec7d995",
   "metadata": {},
   "outputs": [
    {
     "name": "stderr",
     "output_type": "stream",
     "text": [
      "C:\\Users\\tkvkh\\AppData\\Local\\Temp\\ipykernel_19036\\1572479953.py:2: UserWarning: To copy construct from a tensor, it is recommended to use sourceTensor.clone().detach() or sourceTensor.clone().detach().requires_grad_(True), rather than torch.tensor(sourceTensor).\n",
      "  X_test = torch.tensor(X_test, dtype=torch.float32).to(device)\n"
     ]
    },
    {
     "data": {
      "text/plain": [
       "torch.Size([28140, 18])"
      ]
     },
     "execution_count": 15,
     "metadata": {},
     "output_type": "execute_result"
    }
   ],
   "source": [
    "model.eval()\n",
    "X_test = torch.tensor(X_test, dtype=torch.float32).to(device)\n",
    "X_test.shape"
   ]
  },
  {
   "cell_type": "code",
   "execution_count": 16,
   "id": "5dba2024-4162-495b-9aa3-6624ef881873",
   "metadata": {},
   "outputs": [
    {
     "data": {
      "text/plain": [
       "tensor([[  7.,   0.,   3.,  ...,  11.,   5.,   0.],\n",
       "        [ 20.,   1.,  11.,  ...,   6.,   3.,   0.],\n",
       "        [192.,   1.,   7.,  ...,   1.,   5.,   1.],\n",
       "        ...,\n",
       "        [187.,   1.,  42.,  ...,  12.,   2.,   0.],\n",
       "        [124.,   1.,  23.,  ...,  11.,   4.,   0.],\n",
       "        [296.,   1.,   5.,  ...,  10.,   1.,   1.]], device='cuda:0')"
      ]
     },
     "execution_count": 16,
     "metadata": {},
     "output_type": "execute_result"
    }
   ],
   "source": [
    "X_test.to(device)"
   ]
  },
  {
   "cell_type": "code",
   "execution_count": 18,
   "id": "f0bbc4a1-933f-43d4-9fa8-9d27307f5540",
   "metadata": {},
   "outputs": [
    {
     "data": {
      "text/plain": [
       "tensor([ 4.5889, -2.8682, -0.3481,  ..., -8.3919,  1.2322,  1.8660],\n",
       "       device='cuda:0', grad_fn=<SqueezeBackward1>)"
      ]
     },
     "execution_count": 18,
     "metadata": {},
     "output_type": "execute_result"
    }
   ],
   "source": [
    "model(X_test).squeeze(1)"
   ]
  },
  {
   "cell_type": "code",
   "execution_count": 20,
   "id": "a6ef6d68-e41d-4c9d-ba20-08be13709657",
   "metadata": {},
   "outputs": [
    {
     "data": {
      "text/plain": [
       "array([1., 0., 0., ..., 0., 1., 1.], dtype=float32)"
      ]
     },
     "execution_count": 20,
     "metadata": {},
     "output_type": "execute_result"
    }
   ],
   "source": [
    "predictions = (torch.sigmoid(model(X_test).squeeze(1)) > 0.5).float().cpu().detach().numpy()\n",
    "predictions"
   ]
  },
  {
   "cell_type": "code",
   "execution_count": 21,
   "id": "fd473d23-50cc-43d9-b3fe-a8f5a0a03acd",
   "metadata": {},
   "outputs": [
    {
     "data": {
      "text/plain": [
       "(28140,)"
      ]
     },
     "execution_count": 21,
     "metadata": {},
     "output_type": "execute_result"
    }
   ],
   "source": [
    "predictions.shape"
   ]
  },
  {
   "cell_type": "code",
   "execution_count": 22,
   "id": "4a72182e-196c-437c-90a4-48083199746b",
   "metadata": {},
   "outputs": [
    {
     "data": {
      "text/plain": [
       "(28140,)"
      ]
     },
     "execution_count": 22,
     "metadata": {},
     "output_type": "execute_result"
    }
   ],
   "source": [
    "y_test.shape"
   ]
  },
  {
   "cell_type": "code",
   "execution_count": 24,
   "id": "0e2177aa-898a-43d5-8984-543e8c5f2a52",
   "metadata": {},
   "outputs": [
    {
     "data": {
      "text/plain": [
       "0.9331911869225302"
      ]
     },
     "execution_count": 24,
     "metadata": {},
     "output_type": "execute_result"
    }
   ],
   "source": [
    "accuracy_score(y_test, predictions)"
   ]
  },
  {
   "cell_type": "code",
   "execution_count": 25,
   "id": "2541234c-9d04-4cc4-a275-e85854052c99",
   "metadata": {},
   "outputs": [
    {
     "data": {
      "text/html": [
       "<div>\n",
       "<style scoped>\n",
       "    .dataframe tbody tr th:only-of-type {\n",
       "        vertical-align: middle;\n",
       "    }\n",
       "\n",
       "    .dataframe tbody tr th {\n",
       "        vertical-align: top;\n",
       "    }\n",
       "\n",
       "    .dataframe thead th {\n",
       "        text-align: right;\n",
       "    }\n",
       "</style>\n",
       "<table border=\"1\" class=\"dataframe\">\n",
       "  <thead>\n",
       "    <tr style=\"text-align: right;\">\n",
       "      <th></th>\n",
       "      <th>Name</th>\n",
       "      <th>Gender</th>\n",
       "      <th>Age</th>\n",
       "      <th>City</th>\n",
       "      <th>Working Professional or Student</th>\n",
       "      <th>Profession</th>\n",
       "      <th>Academic Pressure</th>\n",
       "      <th>Work Pressure</th>\n",
       "      <th>CGPA</th>\n",
       "      <th>Study Satisfaction</th>\n",
       "      <th>Job Satisfaction</th>\n",
       "      <th>Sleep Duration</th>\n",
       "      <th>Dietary Habits</th>\n",
       "      <th>Degree</th>\n",
       "      <th>Have you ever had suicidal thoughts ?</th>\n",
       "      <th>Work/Study Hours</th>\n",
       "      <th>Financial Stress</th>\n",
       "      <th>Family History of Mental Illness</th>\n",
       "    </tr>\n",
       "  </thead>\n",
       "  <tbody>\n",
       "    <tr>\n",
       "      <th>0</th>\n",
       "      <td>288.0</td>\n",
       "      <td>1.0</td>\n",
       "      <td>36.0</td>\n",
       "      <td>67.0</td>\n",
       "      <td>1.0</td>\n",
       "      <td>28.0</td>\n",
       "      <td>0.0</td>\n",
       "      <td>2.0</td>\n",
       "      <td>0.00</td>\n",
       "      <td>0.0</td>\n",
       "      <td>5.0</td>\n",
       "      <td>25.0</td>\n",
       "      <td>13.0</td>\n",
       "      <td>54.0</td>\n",
       "      <td>0.0</td>\n",
       "      <td>9.0</td>\n",
       "      <td>3.0</td>\n",
       "      <td>1.0</td>\n",
       "    </tr>\n",
       "    <tr>\n",
       "      <th>1</th>\n",
       "      <td>279.0</td>\n",
       "      <td>0.0</td>\n",
       "      <td>41.0</td>\n",
       "      <td>25.0</td>\n",
       "      <td>1.0</td>\n",
       "      <td>20.0</td>\n",
       "      <td>0.0</td>\n",
       "      <td>2.0</td>\n",
       "      <td>0.00</td>\n",
       "      <td>0.0</td>\n",
       "      <td>4.0</td>\n",
       "      <td>25.0</td>\n",
       "      <td>13.0</td>\n",
       "      <td>17.0</td>\n",
       "      <td>0.0</td>\n",
       "      <td>6.0</td>\n",
       "      <td>4.0</td>\n",
       "      <td>0.0</td>\n",
       "    </tr>\n",
       "    <tr>\n",
       "      <th>2</th>\n",
       "      <td>365.0</td>\n",
       "      <td>1.0</td>\n",
       "      <td>36.0</td>\n",
       "      <td>21.0</td>\n",
       "      <td>1.0</td>\n",
       "      <td>57.0</td>\n",
       "      <td>0.0</td>\n",
       "      <td>4.0</td>\n",
       "      <td>0.00</td>\n",
       "      <td>0.0</td>\n",
       "      <td>1.0</td>\n",
       "      <td>16.0</td>\n",
       "      <td>13.0</td>\n",
       "      <td>13.0</td>\n",
       "      <td>1.0</td>\n",
       "      <td>12.0</td>\n",
       "      <td>4.0</td>\n",
       "      <td>0.0</td>\n",
       "    </tr>\n",
       "    <tr>\n",
       "      <th>3</th>\n",
       "      <td>191.0</td>\n",
       "      <td>0.0</td>\n",
       "      <td>5.0</td>\n",
       "      <td>47.0</td>\n",
       "      <td>0.0</td>\n",
       "      <td>0.0</td>\n",
       "      <td>5.0</td>\n",
       "      <td>0.0</td>\n",
       "      <td>6.84</td>\n",
       "      <td>1.0</td>\n",
       "      <td>0.0</td>\n",
       "      <td>27.0</td>\n",
       "      <td>13.0</td>\n",
       "      <td>36.0</td>\n",
       "      <td>1.0</td>\n",
       "      <td>10.0</td>\n",
       "      <td>4.0</td>\n",
       "      <td>0.0</td>\n",
       "    </tr>\n",
       "    <tr>\n",
       "      <th>4</th>\n",
       "      <td>285.0</td>\n",
       "      <td>1.0</td>\n",
       "      <td>30.0</td>\n",
       "      <td>22.0</td>\n",
       "      <td>1.0</td>\n",
       "      <td>57.0</td>\n",
       "      <td>0.0</td>\n",
       "      <td>5.0</td>\n",
       "      <td>0.00</td>\n",
       "      <td>0.0</td>\n",
       "      <td>5.0</td>\n",
       "      <td>16.0</td>\n",
       "      <td>13.0</td>\n",
       "      <td>29.0</td>\n",
       "      <td>1.0</td>\n",
       "      <td>3.0</td>\n",
       "      <td>4.0</td>\n",
       "      <td>0.0</td>\n",
       "    </tr>\n",
       "  </tbody>\n",
       "</table>\n",
       "</div>"
      ],
      "text/plain": [
       "    Name  Gender   Age  City  Working Professional or Student  Profession  \\\n",
       "0  288.0     1.0  36.0  67.0                              1.0        28.0   \n",
       "1  279.0     0.0  41.0  25.0                              1.0        20.0   \n",
       "2  365.0     1.0  36.0  21.0                              1.0        57.0   \n",
       "3  191.0     0.0   5.0  47.0                              0.0         0.0   \n",
       "4  285.0     1.0  30.0  22.0                              1.0        57.0   \n",
       "\n",
       "   Academic Pressure  Work Pressure  CGPA  Study Satisfaction  \\\n",
       "0                0.0            2.0  0.00                 0.0   \n",
       "1                0.0            2.0  0.00                 0.0   \n",
       "2                0.0            4.0  0.00                 0.0   \n",
       "3                5.0            0.0  6.84                 1.0   \n",
       "4                0.0            5.0  0.00                 0.0   \n",
       "\n",
       "   Job Satisfaction  Sleep Duration  Dietary Habits  Degree  \\\n",
       "0               5.0            25.0            13.0    54.0   \n",
       "1               4.0            25.0            13.0    17.0   \n",
       "2               1.0            16.0            13.0    13.0   \n",
       "3               0.0            27.0            13.0    36.0   \n",
       "4               5.0            16.0            13.0    29.0   \n",
       "\n",
       "   Have you ever had suicidal thoughts ?  Work/Study Hours  Financial Stress  \\\n",
       "0                                    0.0               9.0               3.0   \n",
       "1                                    0.0               6.0               4.0   \n",
       "2                                    1.0              12.0               4.0   \n",
       "3                                    1.0              10.0               4.0   \n",
       "4                                    1.0               3.0               4.0   \n",
       "\n",
       "   Family History of Mental Illness  \n",
       "0                               1.0  \n",
       "1                               0.0  \n",
       "2                               0.0  \n",
       "3                               0.0  \n",
       "4                               0.0  "
      ]
     },
     "execution_count": 25,
     "metadata": {},
     "output_type": "execute_result"
    }
   ],
   "source": [
    "test = pd.read_csv(\"test.csv\")\n",
    "\n",
    "label_encoder = LabelEncoder()\n",
    "\n",
    "# Drop column\n",
    "test = test.drop([\"id\"], axis=1)\n",
    "\n",
    "# fill Na\n",
    "test.fillna(0.0, inplace=True)\n",
    "\n",
    "# encoded column:\n",
    "encoded_columns = [\"Name\", \"City\", \"Gender\", \"Age\", \"Working Professional or Student\", \"Profession\", \"Sleep Duration\", \"Dietary Habits\", \"Degree\", \"Have you ever had suicidal thoughts ?\", \"Family History of Mental Illness\"]\n",
    "\n",
    "test[\"Profession\"] = test[\"Profession\"].astype(str)\n",
    "\n",
    "for column in encoded_columns:\n",
    "    test[column] = test[column].astype(str)\n",
    "    test[column] = label_encoder.fit_transform(test[column])\n",
    "\n",
    "test = test.astype(float)\n",
    "test.head(5)"
   ]
  },
  {
   "cell_type": "code",
   "execution_count": 28,
   "id": "6a794099-6468-4a37-972d-79f6cc00b1f5",
   "metadata": {},
   "outputs": [
    {
     "data": {
      "text/plain": [
       "(93800,)"
      ]
     },
     "execution_count": 28,
     "metadata": {},
     "output_type": "execute_result"
    }
   ],
   "source": [
    "test_x = test.to_numpy()\n",
    "test_x = torch.tensor(test_x, dtype=torch.float32).to(device)\n",
    "\n",
    "test_y = (torch.sigmoid(model(test_x).squeeze(1)) > 0.5).float().cpu().detach().numpy()\n",
    "test_y.shape"
   ]
  },
  {
   "cell_type": "code",
   "execution_count": 29,
   "id": "102ed55e-aa3d-4300-8876-fc4ad52445a2",
   "metadata": {},
   "outputs": [
    {
     "data": {
      "text/plain": [
       "array([0., 0., 0., ..., 0., 1., 0.], dtype=float32)"
      ]
     },
     "execution_count": 29,
     "metadata": {},
     "output_type": "execute_result"
    }
   ],
   "source": [
    "test_y"
   ]
  },
  {
   "cell_type": "code",
   "execution_count": 33,
   "id": "6bed213a-6f49-4ae0-bfc3-06d900cca76f",
   "metadata": {},
   "outputs": [],
   "source": [
    "submission = pd.read_csv(\"sample_submission.csv\")\n",
    "submission[\"Depression\"] = test_y\n",
    "\n",
    "submission.to_csv(\"submission/neural_network.csv\", index=False)"
   ]
  },
  {
   "cell_type": "code",
   "execution_count": null,
   "id": "e6749abe-579a-4783-b950-da6301519405",
   "metadata": {},
   "outputs": [],
   "source": []
  }
 ],
 "metadata": {
  "kernelspec": {
   "display_name": "Python 3 (ipykernel)",
   "language": "python",
   "name": "python3"
  },
  "language_info": {
   "codemirror_mode": {
    "name": "ipython",
    "version": 3
   },
   "file_extension": ".py",
   "mimetype": "text/x-python",
   "name": "python",
   "nbconvert_exporter": "python",
   "pygments_lexer": "ipython3",
   "version": "3.11.7"
  }
 },
 "nbformat": 4,
 "nbformat_minor": 5
}
