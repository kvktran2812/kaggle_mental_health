{
 "cells": [
  {
   "cell_type": "code",
   "execution_count": 1,
   "id": "c688fa8f-7e96-4c82-951b-9ccb32c8fb9f",
   "metadata": {},
   "outputs": [],
   "source": [
    "import pandas as pd\n",
    "import numpy as np"
   ]
  },
  {
   "cell_type": "code",
   "execution_count": 2,
   "id": "b8a710d5-b208-4e92-8669-d39f74711574",
   "metadata": {},
   "outputs": [],
   "source": [
    "xgboost = pd.read_csv(\"submission/xgboost.csv\")\n",
    "catboost = pd.read_csv(\"submission/catboost.csv\")\n",
    "neural_network = pd.read_csv(\"submission/neural_network.csv\")"
   ]
  },
  {
   "cell_type": "code",
   "execution_count": 5,
   "id": "a4becbb9-d5ce-49fa-aba0-af72f337615a",
   "metadata": {},
   "outputs": [
    {
     "name": "stdout",
     "output_type": "stream",
     "text": [
      "Average Array: [0. 0. 0. ... 0. 1. 0.]\n"
     ]
    }
   ],
   "source": [
    "arrays = [\n",
    "    xgboost[\"Depression\"],\n",
    "    catboost[\"Depression\"],\n",
    "    neural_network[\"Depression\"]\n",
    "]\n",
    "\n",
    "average_array = np.mean(arrays, axis=0)\n",
    "print(\"Average Array:\", average_array)"
   ]
  },
  {
   "cell_type": "code",
   "execution_count": 9,
   "id": "36bee144-b92a-4358-994e-a7a514aabda9",
   "metadata": {},
   "outputs": [
    {
     "data": {
      "text/plain": [
       "array([0.        , 0.33333333, 0.66666667, 1.        ])"
      ]
     },
     "execution_count": 9,
     "metadata": {},
     "output_type": "execute_result"
    }
   ],
   "source": [
    "average_array = np.array(average_array)\n",
    "np.unique(average_array)"
   ]
  },
  {
   "cell_type": "code",
   "execution_count": 12,
   "id": "e0d0e524-4465-4e56-978b-e1c7ab4e2f25",
   "metadata": {},
   "outputs": [
    {
     "data": {
      "text/plain": [
       "(93800, 1)"
      ]
     },
     "execution_count": 12,
     "metadata": {},
     "output_type": "execute_result"
    }
   ],
   "source": [
    "df = pd.DataFrame(data={\n",
    "    \"data\": average_array\n",
    "})\n",
    "df.shape"
   ]
  },
  {
   "cell_type": "code",
   "execution_count": 17,
   "id": "9866b177-c85d-4fa2-a776-ad67b4ff2673",
   "metadata": {},
   "outputs": [
    {
     "data": {
      "text/plain": [
       "array([0, 0, 0, ..., 0, 1, 0])"
      ]
     },
     "execution_count": 17,
     "metadata": {},
     "output_type": "execute_result"
    }
   ],
   "source": [
    "ensemble = (average_array >= 0.5).astype(int)\n",
    "ensemble"
   ]
  },
  {
   "cell_type": "code",
   "execution_count": 18,
   "id": "f9931076-ef5f-4aa1-a6a4-2fc508bb192d",
   "metadata": {},
   "outputs": [],
   "source": [
    "submission = pd.read_csv(\"sample_submission.csv\")\n",
    "submission[\"Depression\"] = ensemble\n",
    "\n",
    "submission.to_csv(\"submission/ensemble.csv\", index=False)"
   ]
  },
  {
   "cell_type": "code",
   "execution_count": null,
   "id": "1a7f996e-9375-4283-9bba-87efce5c12c0",
   "metadata": {},
   "outputs": [],
   "source": []
  }
 ],
 "metadata": {
  "kernelspec": {
   "display_name": "Python 3 (ipykernel)",
   "language": "python",
   "name": "python3"
  },
  "language_info": {
   "codemirror_mode": {
    "name": "ipython",
    "version": 3
   },
   "file_extension": ".py",
   "mimetype": "text/x-python",
   "name": "python",
   "nbconvert_exporter": "python",
   "pygments_lexer": "ipython3",
   "version": "3.11.7"
  }
 },
 "nbformat": 4,
 "nbformat_minor": 5
}
