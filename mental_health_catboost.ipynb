{
 "cells": [
  {
   "cell_type": "code",
   "execution_count": 2,
   "id": "c9239ae6-876c-4937-bd00-ec14e45e78d6",
   "metadata": {},
   "outputs": [],
   "source": [
    "import pandas as pd\n",
    "import numpy as np\n",
    "import matplotlib.pyplot as plt\n",
    "import seaborn as sns\n",
    "from catboost import Pool, CatBoostClassifier\n",
    "from sklearn.model_selection import StratifiedKFold\n",
    "from sklearn.metrics import accuracy_score, f1_score, roc_auc_score\n",
    "import optuna\n",
    "from optuna.samplers import TPESampler\n",
    "import warnings\n",
    "import shap\n",
    "warnings.filterwarnings(\"ignore\")"
   ]
  },
  {
   "cell_type": "code",
   "execution_count": 3,
   "id": "ca368119-70a7-4aac-a20f-2fe6eb3299d4",
   "metadata": {},
   "outputs": [],
   "source": [
    "train = pd.read_csv(\"train.csv\")\n",
    "test = pd.read_csv(\"test.csv\")"
   ]
  },
  {
   "cell_type": "code",
   "execution_count": 4,
   "id": "2be48d59-b443-4294-80d8-6f406cfaea84",
   "metadata": {},
   "outputs": [],
   "source": [
    "train = train.fillna('None').astype('string')\n",
    "test = test.fillna('None').astype('string')\n",
    "\n",
    "y = train['Depression']\n",
    "X = train.drop(['Depression'], axis=1)"
   ]
  },
  {
   "cell_type": "code",
   "execution_count": 5,
   "id": "f8a1551c-0ce5-4109-befb-11898d41b50a",
   "metadata": {},
   "outputs": [],
   "source": [
    "# iget this from optuna\n",
    "catboost_params = {\n",
    "    'loss_function': 'Logloss',\n",
    "    'eval_metric': 'AUC',\n",
    "    'learning_rate': 0.08114394459649094,\n",
    "    'iterations': 1000,\n",
    "    'depth': 6,\n",
    "    'random_strength':0,\n",
    "    'l2_leaf_reg': 0.7047064221215757,\n",
    "    'random_seed':42,\n",
    "    'verbose':False,\n",
    "    'task_type': 'GPU'\n",
    "}"
   ]
  },
  {
   "cell_type": "code",
   "execution_count": 6,
   "id": "61207b49-eacd-434e-9ef8-afb79b37c6a6",
   "metadata": {},
   "outputs": [
    {
     "name": "stderr",
     "output_type": "stream",
     "text": [
      "Default metric period is 5 because AUC is/are not implemented for GPU\n"
     ]
    },
    {
     "name": "stdout",
     "output_type": "stream",
     "text": [
      "Fold 1 accuracy_score: 0.9414356787491116\n"
     ]
    },
    {
     "name": "stderr",
     "output_type": "stream",
     "text": [
      "Default metric period is 5 because AUC is/are not implemented for GPU\n"
     ]
    },
    {
     "name": "stdout",
     "output_type": "stream",
     "text": [
      "Fold 2 accuracy_score: 0.9381307746979389\n"
     ]
    },
    {
     "name": "stderr",
     "output_type": "stream",
     "text": [
      "Default metric period is 5 because AUC is/are not implemented for GPU\n"
     ]
    },
    {
     "name": "stdout",
     "output_type": "stream",
     "text": [
      "Fold 3 accuracy_score: 0.9416133617626155\n"
     ]
    },
    {
     "name": "stderr",
     "output_type": "stream",
     "text": [
      "Default metric period is 5 because AUC is/are not implemented for GPU\n"
     ]
    },
    {
     "name": "stdout",
     "output_type": "stream",
     "text": [
      "Fold 4 accuracy_score: 0.9402985074626866\n"
     ]
    },
    {
     "name": "stderr",
     "output_type": "stream",
     "text": [
      "Default metric period is 5 because AUC is/are not implemented for GPU\n"
     ]
    },
    {
     "name": "stdout",
     "output_type": "stream",
     "text": [
      "Fold 5 accuracy_score: 0.9391257995735608\n",
      "Cross-validated accuracy_score: 0.940 +/- 0.001\n"
     ]
    }
   ],
   "source": [
    "cv = StratifiedKFold(5, shuffle=True, random_state=0)\n",
    "cv_splits = cv.split(X, y)\n",
    "scores = []\n",
    "test_preds = []\n",
    "X_test_pool = Pool(test, cat_features=X.columns.values)\n",
    "for i, (train_idx, val_idx) in enumerate(cv_splits):\n",
    "    model = CatBoostClassifier(**catboost_params)\n",
    "    X_train_fold, X_val_fold = X.loc[train_idx], X.loc[val_idx]\n",
    "    y_train_fold, y_val_fold = y.loc[train_idx], y.loc[val_idx]\n",
    "    X_train_pool = Pool(X_train_fold, y_train_fold, cat_features=X.columns.values)\n",
    "    X_valid_pool = Pool(X_val_fold, y_val_fold, cat_features=X.columns.values)\n",
    "    model.fit(X=X_train_pool, eval_set=X_valid_pool, verbose=False, early_stopping_rounds=200)\n",
    "    val_pred = model.predict(X_valid_pool)\n",
    "    score = accuracy_score(y_val_fold, val_pred)\n",
    "    scores.append(score)\n",
    "    test_pred = model.predict_proba(X_test_pool)[:, 1]\n",
    "    test_preds.append(test_pred)\n",
    "    print(f'Fold {i + 1} accuracy_score: {score}')\n",
    "print(f'Cross-validated accuracy_score: {np.mean(scores):.3f} +/- {np.std(scores):.3f}')"
   ]
  },
  {
   "cell_type": "code",
   "execution_count": 7,
   "id": "0371baea-db9d-4736-aded-14e64cc2085c",
   "metadata": {},
   "outputs": [
    {
     "name": "stdout",
     "output_type": "stream",
     "text": [
      "Max accuracy_score score: 0.942\n",
      "Min accuracy_score score: 0.938\n"
     ]
    }
   ],
   "source": [
    "print(f'Max accuracy_score score: {np.max(scores):.3f}')\n",
    "print(f'Min accuracy_score score: {np.min(scores):.3f}')"
   ]
  },
  {
   "cell_type": "code",
   "execution_count": 8,
   "id": "8c466cad-0709-46ab-b031-9b5a73b3ac91",
   "metadata": {},
   "outputs": [
    {
     "data": {
      "text/html": [
       "<div>\n",
       "<style scoped>\n",
       "    .dataframe tbody tr th:only-of-type {\n",
       "        vertical-align: middle;\n",
       "    }\n",
       "\n",
       "    .dataframe tbody tr th {\n",
       "        vertical-align: top;\n",
       "    }\n",
       "\n",
       "    .dataframe thead th {\n",
       "        text-align: right;\n",
       "    }\n",
       "</style>\n",
       "<table border=\"1\" class=\"dataframe\">\n",
       "  <thead>\n",
       "    <tr style=\"text-align: right;\">\n",
       "      <th></th>\n",
       "      <th>id</th>\n",
       "      <th>Name</th>\n",
       "      <th>Gender</th>\n",
       "      <th>Age</th>\n",
       "      <th>City</th>\n",
       "      <th>Working Professional or Student</th>\n",
       "      <th>Profession</th>\n",
       "      <th>Academic Pressure</th>\n",
       "      <th>Work Pressure</th>\n",
       "      <th>CGPA</th>\n",
       "      <th>Study Satisfaction</th>\n",
       "      <th>Job Satisfaction</th>\n",
       "      <th>Sleep Duration</th>\n",
       "      <th>Dietary Habits</th>\n",
       "      <th>Degree</th>\n",
       "      <th>Have you ever had suicidal thoughts ?</th>\n",
       "      <th>Work/Study Hours</th>\n",
       "      <th>Financial Stress</th>\n",
       "      <th>Family History of Mental Illness</th>\n",
       "    </tr>\n",
       "  </thead>\n",
       "  <tbody>\n",
       "    <tr>\n",
       "      <th>0</th>\n",
       "      <td>140700</td>\n",
       "      <td>Shivam</td>\n",
       "      <td>Male</td>\n",
       "      <td>53.0</td>\n",
       "      <td>Visakhapatnam</td>\n",
       "      <td>Working Professional</td>\n",
       "      <td>Judge</td>\n",
       "      <td>None</td>\n",
       "      <td>2.0</td>\n",
       "      <td>None</td>\n",
       "      <td>None</td>\n",
       "      <td>5.0</td>\n",
       "      <td>Less than 5 hours</td>\n",
       "      <td>Moderate</td>\n",
       "      <td>LLB</td>\n",
       "      <td>No</td>\n",
       "      <td>9.0</td>\n",
       "      <td>3.0</td>\n",
       "      <td>Yes</td>\n",
       "    </tr>\n",
       "    <tr>\n",
       "      <th>1</th>\n",
       "      <td>140701</td>\n",
       "      <td>Sanya</td>\n",
       "      <td>Female</td>\n",
       "      <td>58.0</td>\n",
       "      <td>Kolkata</td>\n",
       "      <td>Working Professional</td>\n",
       "      <td>Educational Consultant</td>\n",
       "      <td>None</td>\n",
       "      <td>2.0</td>\n",
       "      <td>None</td>\n",
       "      <td>None</td>\n",
       "      <td>4.0</td>\n",
       "      <td>Less than 5 hours</td>\n",
       "      <td>Moderate</td>\n",
       "      <td>B.Ed</td>\n",
       "      <td>No</td>\n",
       "      <td>6.0</td>\n",
       "      <td>4.0</td>\n",
       "      <td>No</td>\n",
       "    </tr>\n",
       "    <tr>\n",
       "      <th>2</th>\n",
       "      <td>140702</td>\n",
       "      <td>Yash</td>\n",
       "      <td>Male</td>\n",
       "      <td>53.0</td>\n",
       "      <td>Jaipur</td>\n",
       "      <td>Working Professional</td>\n",
       "      <td>Teacher</td>\n",
       "      <td>None</td>\n",
       "      <td>4.0</td>\n",
       "      <td>None</td>\n",
       "      <td>None</td>\n",
       "      <td>1.0</td>\n",
       "      <td>7-8 hours</td>\n",
       "      <td>Moderate</td>\n",
       "      <td>B.Arch</td>\n",
       "      <td>Yes</td>\n",
       "      <td>12.0</td>\n",
       "      <td>4.0</td>\n",
       "      <td>No</td>\n",
       "    </tr>\n",
       "    <tr>\n",
       "      <th>3</th>\n",
       "      <td>140703</td>\n",
       "      <td>Nalini</td>\n",
       "      <td>Female</td>\n",
       "      <td>23.0</td>\n",
       "      <td>Rajkot</td>\n",
       "      <td>Student</td>\n",
       "      <td>None</td>\n",
       "      <td>5.0</td>\n",
       "      <td>None</td>\n",
       "      <td>6.84</td>\n",
       "      <td>1.0</td>\n",
       "      <td>None</td>\n",
       "      <td>More than 8 hours</td>\n",
       "      <td>Moderate</td>\n",
       "      <td>BSc</td>\n",
       "      <td>Yes</td>\n",
       "      <td>10.0</td>\n",
       "      <td>4.0</td>\n",
       "      <td>No</td>\n",
       "    </tr>\n",
       "    <tr>\n",
       "      <th>4</th>\n",
       "      <td>140704</td>\n",
       "      <td>Shaurya</td>\n",
       "      <td>Male</td>\n",
       "      <td>47.0</td>\n",
       "      <td>Kalyan</td>\n",
       "      <td>Working Professional</td>\n",
       "      <td>Teacher</td>\n",
       "      <td>None</td>\n",
       "      <td>5.0</td>\n",
       "      <td>None</td>\n",
       "      <td>None</td>\n",
       "      <td>5.0</td>\n",
       "      <td>7-8 hours</td>\n",
       "      <td>Moderate</td>\n",
       "      <td>BCA</td>\n",
       "      <td>Yes</td>\n",
       "      <td>3.0</td>\n",
       "      <td>4.0</td>\n",
       "      <td>No</td>\n",
       "    </tr>\n",
       "  </tbody>\n",
       "</table>\n",
       "</div>"
      ],
      "text/plain": [
       "       id     Name  Gender   Age           City  \\\n",
       "0  140700   Shivam    Male  53.0  Visakhapatnam   \n",
       "1  140701    Sanya  Female  58.0        Kolkata   \n",
       "2  140702     Yash    Male  53.0         Jaipur   \n",
       "3  140703   Nalini  Female  23.0         Rajkot   \n",
       "4  140704  Shaurya    Male  47.0         Kalyan   \n",
       "\n",
       "  Working Professional or Student              Profession Academic Pressure  \\\n",
       "0            Working Professional                   Judge              None   \n",
       "1            Working Professional  Educational Consultant              None   \n",
       "2            Working Professional                 Teacher              None   \n",
       "3                         Student                    None               5.0   \n",
       "4            Working Professional                 Teacher              None   \n",
       "\n",
       "  Work Pressure  CGPA Study Satisfaction Job Satisfaction     Sleep Duration  \\\n",
       "0           2.0  None               None              5.0  Less than 5 hours   \n",
       "1           2.0  None               None              4.0  Less than 5 hours   \n",
       "2           4.0  None               None              1.0          7-8 hours   \n",
       "3          None  6.84                1.0             None  More than 8 hours   \n",
       "4           5.0  None               None              5.0          7-8 hours   \n",
       "\n",
       "  Dietary Habits  Degree Have you ever had suicidal thoughts ?  \\\n",
       "0       Moderate     LLB                                    No   \n",
       "1       Moderate    B.Ed                                    No   \n",
       "2       Moderate  B.Arch                                   Yes   \n",
       "3       Moderate     BSc                                   Yes   \n",
       "4       Moderate     BCA                                   Yes   \n",
       "\n",
       "  Work/Study Hours Financial Stress Family History of Mental Illness  \n",
       "0              9.0              3.0                              Yes  \n",
       "1              6.0              4.0                               No  \n",
       "2             12.0              4.0                               No  \n",
       "3             10.0              4.0                               No  \n",
       "4              3.0              4.0                               No  "
      ]
     },
     "execution_count": 8,
     "metadata": {},
     "output_type": "execute_result"
    }
   ],
   "source": [
    "test.head()"
   ]
  },
  {
   "cell_type": "code",
   "execution_count": 10,
   "id": "f04d0852-4b93-45fc-86f9-426168ac3f21",
   "metadata": {},
   "outputs": [
    {
     "data": {
      "text/plain": [
       "array([0., 0., 0., ..., 0., 1., 0.])"
      ]
     },
     "execution_count": 10,
     "metadata": {},
     "output_type": "execute_result"
    }
   ],
   "source": [
    "np.round(np.mean(test_preds, axis=0))"
   ]
  },
  {
   "cell_type": "code",
   "execution_count": 12,
   "id": "6b7b5fa5-d821-4d26-8a8b-eef736ecb276",
   "metadata": {},
   "outputs": [],
   "source": [
    "submission = pd.DataFrame(data={\n",
    "    \"id\": np.arange(140700, 140700 + len(test)),\n",
    "    \"Depression\": np.round(np.mean(test_preds, axis=0))\n",
    "})\n",
    "\n",
    "submission.to_csv(\"submission/catboost.csv\", index=False)"
   ]
  },
  {
   "cell_type": "code",
   "execution_count": null,
   "id": "0ea55567-b307-48d6-b471-0cddafb8b1dd",
   "metadata": {},
   "outputs": [],
   "source": []
  }
 ],
 "metadata": {
  "kernelspec": {
   "display_name": "Python 3 (ipykernel)",
   "language": "python",
   "name": "python3"
  },
  "language_info": {
   "codemirror_mode": {
    "name": "ipython",
    "version": 3
   },
   "file_extension": ".py",
   "mimetype": "text/x-python",
   "name": "python",
   "nbconvert_exporter": "python",
   "pygments_lexer": "ipython3",
   "version": "3.11.7"
  }
 },
 "nbformat": 4,
 "nbformat_minor": 5
}
